{
 "cells": [
  {
   "cell_type": "code",
   "execution_count": null,
   "metadata": {},
   "outputs": [],
   "source": [
    "x=0\n",
    "y=1\n",
    "z=0\n",
    "print(z)\n",
    "for i in range(0,10):\n",
    "    z = x + y\n",
    "    x=y\n",
    "    y = z\n",
    "    print(x)\n",
    "\n"
   ]
  },
  {
   "cell_type": "code",
   "execution_count": null,
   "metadata": {},
   "outputs": [],
   "source": [
    "class Node:\n",
    "    def __init__(self,data):\n",
    "        self.val = data\n",
    "        self.next = None\n",
    "class LinkedList:\n",
    "    def __init__(self,head):\n",
    "        self.head = head\n",
    "L1 = LinkedList(None)\n",
    "#print(L1.head,LinkedList(None))\n",
    "#print(None == None)\n",
    "i=0\n",
    "if L1.head == None:\n",
    "        temp_node = Node(i*2)\n",
    "        L1.head = temp_node\n",
    "i+=1\n",
    "head = L1\n",
    "L1 = L1.head\n",
    "#print(L1.head)\n",
    "while i in range(0,10):    \n",
    "    temp_node = Node(i*2)\n",
    "    L1.next = temp_node\n",
    "    L1 = L1.next\n",
    "    i = i +1\n",
    "start = head.head\n",
    "while start != None:\n",
    "    print(start.val)\n",
    "    start = start.next\n",
    "    \n",
    "print(\"Done for the Day\")\n"
   ]
  },
  {
   "cell_type": "code",
   "execution_count": 218,
   "metadata": {},
   "outputs": [
    {
     "name": "stdout",
     "output_type": "stream",
     "text": [
      "51\n",
      "51\n",
      "17\n",
      "\n",
      "\n",
      "51\n",
      "51\n",
      "17\n"
     ]
    },
    {
     "data": {
      "text/plain": [
       "'new1 = Tree_Node(2)\\nnew2 = Tree_Node(-1)\\nnew3 = Tree_Node(-4)\\nnew4 = Tree_Node(-3)\\nroot.B_insert(root,new1)\\nroot.B_insert(root,new2)\\nroot.B_insert(root,new3)\\nroot.B_insert(root,new4)'"
      ]
     },
     "execution_count": 218,
     "metadata": {},
     "output_type": "execute_result"
    }
   ],
   "source": [
    "import random\n",
    "class Tree_Node:\n",
    "    def __init__(self,val):\n",
    "        self.left = None\n",
    "        self.right = None\n",
    "        self.val = val\n",
    "    \n",
    "    def B_insert(self,new_node):\n",
    "        if new_node.val <= self.val:\n",
    "            if self.left == None:\n",
    "                self.left = new_node\n",
    "            else:\n",
    "                #print(new_node.val)\n",
    "                self.left.B_insert(new_node)\n",
    "        else:\n",
    "            if new_node.val > self.val:\n",
    "                if self.right == None:\n",
    "                    self.right = new_node\n",
    "                else:\n",
    "                    #print(new_node.val)\n",
    "                    self.right.B_insert(new_node)\n",
    "    \n",
    "    def printTree(self,cur):\n",
    "        if cur == None:\n",
    "            return\n",
    "        else:\n",
    "            print(cur.val)\n",
    "        cur.printTree(cur.left)\n",
    "        cur.printTree(cur.right)\n",
    "        \n",
    "    \n",
    "root = Tree_Node(random.randint(0,100))\n",
    "print(root.val)\n",
    "#print(root.val)\n",
    "i=0\n",
    "while i in range(0,2):\n",
    "    new_node = Tree_Node(random.randint(0,100))\n",
    "    print(new_node.val)\n",
    "    #print(i)\n",
    "    root.B_insert(new_node)\n",
    "    i = i+1\n",
    "print('\\n')\n",
    "root.printTree(root)\n",
    "\"\"\"new1 = Tree_Node(2)\n",
    "new2 = Tree_Node(-1)\n",
    "new3 = Tree_Node(-4)\n",
    "new4 = Tree_Node(-3)\n",
    "root.B_insert(root,new1)\n",
    "root.B_insert(root,new2)\n",
    "root.B_insert(root,new3)\n",
    "root.B_insert(root,new4)\"\"\"\n",
    "\n"
   ]
  },
  {
   "cell_type": "code",
   "execution_count": null,
   "metadata": {},
   "outputs": [],
   "source": [
    "import random\n",
    "print(random.randint(0,100))\n",
    "        \n",
    "        "
   ]
  },
  {
   "cell_type": "code",
   "execution_count": null,
   "metadata": {},
   "outputs": [],
   "source": [
    "class LinkedList:\n",
    "    def __init__(self,head):\n",
    "        self.head = head\n",
    "L1 = LinkedList(None)\n",
    "L2 = LinkedList(None)\n",
    "print(L1.head == L2.head)"
   ]
  }
 ],
 "metadata": {
  "kernelspec": {
   "display_name": "Python 3",
   "language": "python",
   "name": "python3"
  },
  "language_info": {
   "codemirror_mode": {
    "name": "ipython",
    "version": 3
   },
   "file_extension": ".py",
   "mimetype": "text/x-python",
   "name": "python",
   "nbconvert_exporter": "python",
   "pygments_lexer": "ipython3",
   "version": "3.7.3"
  }
 },
 "nbformat": 4,
 "nbformat_minor": 2
}
